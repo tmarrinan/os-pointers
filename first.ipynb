{
 "cells": [
  {
   "cell_type": "code",
   "execution_count": 1,
   "id": "a5a85dda",
   "metadata": {},
   "outputs": [],
   "source": [
    "import numpy as np"
   ]
  },
  {
   "cell_type": "code",
   "execution_count": 2,
   "id": "6d7e0c69",
   "metadata": {},
   "outputs": [],
   "source": [
    "data = {i : np.random.randn() for i in range(9)}"
   ]
  },
  {
   "cell_type": "code",
   "execution_count": 3,
   "id": "0b3aa859",
   "metadata": {},
   "outputs": [
    {
     "data": {
      "text/plain": [
       "{0: -0.3491343002740797,\n",
       " 1: 0.1712232704702957,\n",
       " 2: 1.5478110619601373,\n",
       " 3: -1.7437447308393974,\n",
       " 4: 0.4028815464147684,\n",
       " 5: -0.11007680327644176,\n",
       " 6: -0.7313098012458896,\n",
       " 7: 0.09107899154941805,\n",
       " 8: -0.28620888380092274}"
      ]
     },
     "execution_count": 3,
     "metadata": {},
     "output_type": "execute_result"
    }
   ],
   "source": [
    "data"
   ]
  },
  {
   "cell_type": "code",
   "execution_count": null,
   "id": "4bba8a43",
   "metadata": {},
   "outputs": [],
   "source": []
  },
  {
   "cell_type": "code",
   "execution_count": null,
   "id": "88bbc10b",
   "metadata": {},
   "outputs": [],
   "source": []
  },
  {
   "cell_type": "code",
   "execution_count": null,
   "id": "a455297c",
   "metadata": {},
   "outputs": [],
   "source": []
  },
  {
   "cell_type": "code",
   "execution_count": null,
   "id": "972b58c3",
   "metadata": {},
   "outputs": [],
   "source": []
  },
  {
   "cell_type": "code",
   "execution_count": null,
   "id": "fbda0fc9",
   "metadata": {},
   "outputs": [],
   "source": []
  }
 ],
 "metadata": {
  "kernelspec": {
   "display_name": "Python 3 (ipykernel)",
   "language": "python",
   "name": "python3"
  },
  "language_info": {
   "codemirror_mode": {
    "name": "ipython",
    "version": 3
   },
   "file_extension": ".py",
   "mimetype": "text/x-python",
   "name": "python",
   "nbconvert_exporter": "python",
   "pygments_lexer": "ipython3",
   "version": "3.11.4"
  }
 },
 "nbformat": 4,
 "nbformat_minor": 5
}
